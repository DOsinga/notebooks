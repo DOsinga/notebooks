{
 "cells": [
  {
   "cell_type": "markdown",
   "metadata": {},
   "source": [
    "# Movie Recommendations based Wikilinks\n",
    "\n",
    "Movie recommendation systems are usually based on ratings. The code below though only looks at links from the wikipedia pages of movies. The intuition here is that movies that are similar, will link to similar entities. This could be style, actors, directors or time periods.\n",
    "\n",
    "We train an embedding model that tries to predict whether two movies both link to an entity or not. We can then use the resulting embedding vectors to find nearest neighbors and create something that says, if you like this movie, try out also that movie."
   ]
  },
  {
   "cell_type": "markdown",
   "metadata": {},
   "source": [
    "First start with a bunch of imports:"
   ]
  },
  {
   "cell_type": "code",
   "execution_count": 113,
   "metadata": {
    "collapsed": false,
    "deletable": true,
    "editable": true
   },
   "outputs": [],
   "source": [
    "%matplotlib inline\n",
    "\n",
    "import os\n",
    "import numpy as np\n",
    "\n",
    "import psycopg2\n",
    "import psycopg2.extras\n",
    "from itertools import chain\n",
    "from collections import Counter, defaultdict\n",
    "import requests\n",
    "import imageio\n",
    "\n",
    "import matplotlib.pyplot as plt\n",
    "import numpy as np\n",
    "from PIL import Image, ImageDraw\n",
    "from io import BytesIO\n",
    "from hashlib import md5\n",
    "from IPython.display import Image, display, HTML\n",
    "\n",
    "from itertools import chain\n",
    "import mwparserfromhell\n",
    "\n",
    "from keras.models import Model\n",
    "from keras.layers import Embedding, Dense, Input, Lambda, Reshape, merge\n",
    "import keras.backend as K\n",
    "from keras.layers.merge import Dot\n",
    "\n",
    "from sklearn.manifold import TSNE"
   ]
  },
  {
   "cell_type": "markdown",
   "metadata": {},
   "source": [
    "The fetch_image function below fetches an image from wikipedia given a wikipedia id for that image:"
   ]
  },
  {
   "cell_type": "code",
   "execution_count": 5,
   "metadata": {
    "collapsed": false,
    "deletable": true,
    "editable": true
   },
   "outputs": [
    {
     "data": {
      "text/plain": [
       "'Suicide_Squad_(film)_Poster.png'"
      ]
     },
     "execution_count": 5,
     "metadata": {},
     "output_type": "execute_result"
    }
   ],
   "source": [
    "IMAGE_PATH_EN = 'http://upload.wikimedia.org/wikipedia/en/%s/%s/%s'\n",
    "IMAGE_PATH_COMMONS = 'http://upload.wikimedia.org/wikipedia/commons/%s/%s/%s'\n",
    "image_cache = 'movie_images'\n",
    "\n",
    "def fetch_image(image_name):\n",
    "    if not image_name or image_name.endswith('.tiff'):\n",
    "        return None\n",
    "    image_name = image_name.replace(' ', '_')\n",
    "    if image_name[0].upper() != image_name[0]:\n",
    "        image_name = image_name.capitalize()\n",
    "    file_path = os.path.join(image_cache, image_name)\n",
    "    if os.path.isfile(file_path):\n",
    "        return image_name\n",
    "    else:\n",
    "        m = md5()\n",
    "        m.update(image_name.encode('utf-8'))\n",
    "        c = m.hexdigest()\n",
    "        path = IMAGE_PATH_EN % (c[0], c[0:2], image_name)\n",
    "        r = requests.get(path)\n",
    "        if r.status_code == 404:\n",
    "            path = IMAGE_PATH_COMMONS % (c[0], c[0:2], image_name)\n",
    "            r = requests.get(path)\n",
    "            if r.status_code == 404:\n",
    "                print image_name\n",
    "                return None\n",
    "        try:\n",
    "            image = Image.open(BytesIO(r.content))\n",
    "        except IOError:\n",
    "            return None\n",
    "        except ValueError:\n",
    "            return None\n",
    "        image.save(file(file_path, 'w'))\n",
    "        image.thumbnail((240, 640), Image.ANTIALIAS)\n",
    "        res = BytesIO()\n",
    "        if image.mode == 'P':\n",
    "            image = image.convert('RGB')\n",
    "        try:\n",
    "            image.save(res, 'WEBP', quality=15)\n",
    "        except IOError as err:\n",
    "            print image_name, err.message\n",
    "            return None\n",
    "        return image_name\n",
    "\n",
    "fetch_image('Suicide Squad (film) Poster.png')"
   ]
  },
  {
   "cell_type": "markdown",
   "metadata": {},
   "source": [
    "The code here relies on wikipedia having been imported into Postgres using [Wiki Import](https://github.com/DOsinga/wiki_import). So we setup a connection to postgres, fetch the 15000 most popular movies and then extract for each the movie name, the image for the movie and the outgoing links from that page"
   ]
  },
  {
   "cell_type": "code",
   "execution_count": 2,
   "metadata": {
    "collapsed": false,
    "deletable": true,
    "editable": true
   },
   "outputs": [],
   "source": [
    "postgres_conn = psycopg2.connect('dbname=douwe user=notebook')\n",
    "postgres_cursor = postgres_conn.cursor(cursor_factory=psycopg2.extras.DictCursor)"
   ]
  },
  {
   "cell_type": "code",
   "execution_count": 31,
   "metadata": {
    "collapsed": false,
    "deletable": true,
    "editable": true
   },
   "outputs": [
    {
     "name": "stdout",
     "output_type": "stream",
     "text": [
      "Getting top movies...\n"
     ]
    }
   ],
   "source": [
    "print 'Getting top movies...'\n",
    "postgres_cursor.execute(\n",
    "    \"SELECT wikipedia.*, wikistats.viewcount FROM wikipedia \"\n",
    "    \"JOIN wikistats ON wikipedia.title = wikistats.title WHERE wikipedia.infobox = 'film' \"\n",
    "    \"ORDER BY wikistats.viewcount DESC limit 15000\"\n",
    "#\"limit 100\"\n",
    ")"
   ]
  },
  {
   "cell_type": "code",
   "execution_count": 32,
   "metadata": {
    "collapsed": false,
    "deletable": true,
    "editable": true
   },
   "outputs": [
    {
     "name": "stdout",
     "output_type": "stream",
     "text": [
      "[[File:Harry-film-logo.png|250px]]\n",
      "File:Fan-First-Look.jpg\n",
      "[[File:The_hunger_games.svg|250px]]\n",
      "The_Fantastic_Four_poster.jpg\n",
      "[[File:Piratesofthecaribbean-logo-englisch.svg|250px]]\n",
      "[[File:Twilight2.png|250px]]\n",
      "File:GotG_Vol2_poster.jpg\n",
      "The_Lobster.jpg\n",
      "File:Theory_of_Everything.jpg\n",
      "Magnificent_original.jpg\n",
      "TheGreatGatsby2012Poster.jpg\n",
      "ThingPoster.jpg\n",
      "File:Unfriended_2015_teaser_poster.jpg\n",
      "[[File:The_Chronicles_of_Narnia_logo.svg|256px]]\n",
      "<!--_DO_NOT_ADD_A_POSTER_TO_THIS_SECTION,_PLEASE_VOTE_IN_THE_DISCUSSION_PAGE_FIRST,_REGARDING_WHAT_POSTER_SHOULD_BE_UP_-->Harry_Potter_and_the_Deathly_Hallows&nbsp;–_Part_2.jpg\n",
      "Batman_ver2.jpg\n",
      "Scaled_rbmp.jpg\n",
      "File:The_Lady_in_the_Van_film_poster.jpg\n",
      "File:Brothers_film_poster_new_1.jpeg\n",
      "JAZbaa.jpg\n",
      "File:Hero-2015-Poster.jpg\n",
      "TheTexasChainSawMassacre-poster.jpg\n",
      "DazedConfused.jpg\n",
      "The_da_vinci_code_final.jpg_<!--_DO_NOT_REMOVE_THIS,_THIS_IS_THE_THEATRICAL_POSTER_FOR_THE_MOVIE._-->\n",
      "Halloween_cover.jpg\n",
      "Rambo_DVD_Cover.jpg\n",
      "Rocky_IV.jpg{{!}}border\n",
      "<!--Replace_this_poster_only_with_a_valid_reason-->Harry_Potter_and_the_Deathly_Hallows_–_Part_1.jpg\n",
      "[[File:Highlander_1_poster.jpg|230px]]\n",
      "File:Film_Poster_for_400_Days.jpg\n",
      "File:Main-aur-charles.jpg\n",
      "File:DLHK_Poster.jpeg\n",
      "[[File:The_Mummy_Trilogy_Blu-ray_Boxset.jpg|250px]]\n",
      "File:Expendables-STALLONE-SkullLogo.jpg\n",
      "File:The_Darkness_poster.jpg\n",
      "AllEyezOnMePromotionalPoster.jpg\n",
      "File:Horns_Official_Movie_Poster.jpg\n",
      "File:All-Is-Well-2015.jpg\n",
      "Left_Behind_-_Teaser_Poster.jpg\n",
      "MR_-_UK_cinema_poster.jpg\n",
      "Polar_express.jpg\n",
      "Waynes_world_ver2.jpg\n",
      "[[File:Barbie_Logo.png|250px]]\n",
      "Madworldposter.jpg\n",
      "[[File:Kingkong33newposter.jpg|225px]]\n",
      "Running_Man_Theatrical_Poster.jpg\n",
      "File:FandlinLV.jpg\n",
      "File:Hercules_(2014_film)_poster.jpg\n",
      "File:Curse_of_Chucky,_Blu-ray_Art.jpg\n",
      "File:Three_Flavours_Cornetto_Trilogy_DVD.JPG\n",
      "File:Dear_White_People.jpg\n",
      "A_Streetcar_Named_Desire_(1951).jpg{{!}}border\n",
      "File:Going_Clear_Poster.jpg\n",
      "File:Ringu_(1998)_Japanese_theatrical_poster.jpg\n",
      "File:Katyar_Kaljat_Ghusali_(film).jpg\n",
      "File:Rahasya_poster.jpg\n",
      "File:Coherence_2013_theatrical_poster.jpg\n",
      "Eoeposter.jpg\n",
      "File:Skiptrace_American_Poster.jpg\n",
      "[[File:Annie-film.jpg]]\n",
      "Johnny_English_Reborn_Poster.jpg<!--Do_not_replace_this_image_with_U.S._release_poster._This_is_a_UK_film_and_as_such,_a_UK_quad_poster_should_be_used-->\n",
      "File:Hunterrr_film.jpg\n",
      "Gable_ithapponepm_poster.jpg\n",
      "File:I_Frankenstein_Poster.jpg\n",
      "First_look_Thuppakki.jpg\n",
      "[[File:Careful-what-you-wish-for-official-poster.png|225px]]\n",
      "File:Tallulah_poster.jpg\n",
      "Magadheera_poster.jpg\n",
      "Cora%C3%A7%C3%A3oSelvagem.jpg\n",
      "File:Indignation_poster.jpg\n",
      "File:Carry_On_logo_illustration.jpg\n",
      "File:We_Are_Still_Here_film_festival_poster_2015.jpg\n",
      "Original_movie_poster_for_the_film_Who's_Afraid_of_Virginia_Woolf?.jpg\n",
      "File:Walt_Before_Mickey.jpg\n",
      "The_Italian_Job_rerelease.jpg\n",
      "[[Image:Empire_state_--_dvd_cover.jpg|220px|Empire_State]]\n",
      "Roundhay_Garden_Scene.ogg\n",
      "File:Halloween_II_(1981)_theatrical_poster.jpg\n",
      "What's_Your_Number?_Poster.jpg\n",
      "File:Me_Him_Her_(2015)_poster.jpg\n",
      "Vaalu-05.jpg\n",
      "[[File:Movie_national_treasure.JPG|200px]]\n",
      "File:Welcome_to_Me_poster.png\n",
      "File:The_Blob_(1958)_theatrical_poster.jpg\n",
      "Walking_tall.jpg\n",
      "What_Ever_Happened_to_Baby_Jane?_(1962).jpg\n",
      "File:BadEducationMovie.jpeg\n",
      "Red_Eye_poster.JPG\n",
      "File:Soaked_in_Bleach_poster.jpg\n",
      "File:The_Last_Unicorn_(1982)_theatrical_poster.jpg\n",
      "Congo_film_poster.jpg\n",
      "Vinnai-thaandi-varuvaaya-posters-wallpapers-04.jpg\n",
      "Do_You_Believe?_film.jpg\n",
      "Perfect_Sisters_-_Movie_Poster.jpg_<!--_UNLESS_REMOVED_BY_WIKIPEDIA_DO_NOT_REMOVE_IT_-->\n",
      "CJ7.jpg\n",
      "File:Fantstic-planet-poster.jpg\n",
      "File:Brown,r_time_macine60.jpg\n",
      "File:Pather_panchali_poster_in_color_1.jpg\n",
      "Singam_2_First_Look.jpg\n",
      "File:Montage(2013)_poster.jpg\n",
      "File:Family_man_movie.jpg\n",
      "File:Charlie_Countryman_(2013).jpg\n",
      "Mary_shelleys_frankenstein_ver2.jpg\n",
      "File:BrokenHorses.2015poster.jpg\n",
      "[[File:King_Kong_vs_Godzilla_1962.jpg|230px]]\n",
      "File:The_Man_Who_Saved_the_World_poster.jpg\n",
      "Lila%26Eve_Movie_Poster.jpg\n",
      "File:Boss_(2013_Hindi_film)_Theatrical_Poster.jpg\n",
      "File:Jaws_(franchise)_logo.png\n",
      "Quest_for_fire.jpg\n",
      "Arthurdvd.jpg\n",
      "Gomorra.jpg\n",
      "TumBin.jpg\n",
      "File:DuckYouSuckerPoster.jpg\n",
      "File:100_Days_of_Love.jpg\n",
      "File:Enakku_Innoru_Per_Irukku_Poster_for_the_Movie.jpg\n",
      "Thelovedonesusposter.jpg\n",
      "File:It's_Such_A_Beautiful_Day_Poster.jpg\n",
      "Harry_Brown_poster.jpg<!--Please_live_as_UK_poster._As_film_is_a_UK_film_the_release_poster_should_be_of_its_country_of_origin.-->\n",
      "File:The_Blob_(1988)_theatrical_poster.jpg\n",
      "Vampires.jpg\n",
      "File:Yevade_Subramanyam_first_poster.jpg\n",
      "Okuribito_(2008).jpg{{!}}225px\n",
      "Image:Clarenceandmisty.jpg\n",
      "The_Sisterhood_of_Night_(poster).jpg_<!--_UNLESS_REMOVED_BY_WIKIPEDIA_DO_NOT_REMOVE_IT_-->\n",
      "File:Promotional_Poster_for_the_movie_Range_15.jpg\n",
      "File:Housebound2014horrormovieposter.jpeg\n",
      "File:Strictly-ballroom-movie-poster-1992-australian.jpg\n",
      "File:The_Hangover_Trilogy_DVD_cover.jpg\n",
      "<!--_[[File:Men_in_black_logo.gif|250px|''Men_in_Black''_logo]]_-->\n",
      "[[File:Secrets-and-lies-movie-poster-1996-UK.jpg|frameless|upright=1.15]]\n",
      "First_Love.jpg\n",
      "File:Starry_Eyes_2014_film_poster.jpg\n",
      "File:Animal_2014_film_poster.jpg\n",
      "Honey_i_blew_up_the_kid_film_poster.jpg\n",
      "File:Original_Japanese_poster_for_The_Kingdom_of_Dreams_and_Madness.jpg\n",
      "File:Shahid_Poster_(2013).jpg\n",
      "File:Spark_Poster_2017.jpg\n",
      "File:The_Walking_Deceased_film_poster.jpg\n",
      "File:Cosmic_Sex_-_Film_poster.jpeg\n",
      "Gerry_Poster.jpg\n",
      "File:Ship_of_Theseus_domestic_release_poster.jpg\n",
      "[[File:Secretly_Greatly_poster.jpg|250px]]\n",
      "File:Miss_Granny_poster.jpg\n",
      "File:Felix_Manalo_movie_poster.jpg\n",
      "Therobe1.jpg\n",
      "[[File:Parched_film_poster.jpg|220px]]\n",
      "File:Road_to_Paloma.png\n",
      "Race-wallpaper-123860-5641.jpg\n",
      "File:Mulan_-_Rise_of_a_Warrior_poster.jpg\n",
      "[[File:SamuraiCop.jpg]]\n",
      "File:MeganIsMissingPoster.jpg\n",
      "[[File:Godzilla_Resurgence_Theatrical_Poster.jpg|230px]]\n",
      "Kadhalar_Dhinam_DVD_Cover.jpg\n",
      "File:Monsoon_Mangoes_Poster-1.jpg\n",
      "Be_kind_rewind_post.jpg\n",
      "Melodyposter.jpg\n",
      "File:Love-24x7_film_poster.jpg\n",
      "File:Youngistaan.jpg\n",
      "Lordofthefliesposters.jpg\n",
      "Thebigheatmp.jpg\n",
      "[[File:TheGrandSeductionPoster.jpg|220px]]\n",
      "File:Malli_Malli_Idi_Rani_Roju_Movie_Poster.jpg\n",
      "File:Head_film_poster.jpg\n",
      "File:Willard_(1971)_theatrical_poster.jpg\n",
      "File:Singh_Sahab_the_Great_Theatrical_poster.jpg\n",
      "Jungfruk%C3%A4llan.jpg\n",
      "File:Hotblooded_Youth_poster.jpg\n",
      "L%27appartement.jpg\n",
      "File:Theeya_Velai_Seiyyanum_Kumaru_Poster.jpg\n",
      "File:Kaadhal.jpeg\n",
      "File:Har_Har_Byomkesh_poster.jpg\n",
      "File:What's_Your_Raashee?_poster.jpg\n",
      "Hatari.jpg\n",
      "Original_movie_poster_for_the_film_Sounder.jpg{{!}}220px\n",
      "Isai.jpg\n",
      "What's_Up_Doc_poster.jpg<!--_FAIR_USE_of_Image:What's_Up_Doc_poster.jpg:_see_image_description_page_at_http://en.wikipedia.org/wiki/Image:What's_Up_Doc_poster.jpg_for_rationale_-->\n",
      "Qu'est-ce_qu'on_a_fait_au_bon_dieu?_poster.jpg\n",
      "File:The_New_Girlfriend.jpg\n",
      "S%C3%A5som_i_en_spegel.jpg\n",
      "File:Elpresidente1.jpg\n",
      "File:Reasonable_Doubt_Poster.jpg\n",
      "Balvant\n",
      "File:100_Years_(film)_promotional_poster.jpg\n",
      "File:PlushFilmPoster2013.jpg\n",
      "Mr._India_VideoCover.jpeg\n",
      "File:Rio_Grande_poster.jpg\n",
      "File:Syrup_Official_Movie_Poster.jpg\n",
      "File:Desperate_Journey_-_Poster.jpg\n",
      "File:Top_Cat_Begins_Poster.jpg\n",
      "Zapped.jpg\n",
      "The_Turning_Point_VideoCover.jpeg\n",
      "File:10_rillington_place_poster.jpg\n",
      "File:Punk's_Dead_Poster.jpg\n",
      "Daddy_day_campmp.jpg\n",
      "File:ThePirates2014.jpg\n",
      "Ill_be_home_for_christmas_poster.jpg_<!--_Poor_quality_image._Needs_to_be_replaced_-->\n",
      "File:SHIVAM_Movie_Poster.jpg\n",
      "File:The_Remaining_2014_film_poster.jpg\n",
      "File:LOL_Movie_Poster.png\n",
      "Karthi-Nayanthara's_Kaashmora_poster.jpg\n",
      "File:PosterFull-COOLEYHI-poster-001.jpg\n",
      "File:Uwantmetokillhim2013poster.jpg\n",
      "File:Martyrs2015presalesposter.jpeg\n",
      "File:Film_Poster_for_Alice's_Restaurant.jpg\n",
      "File:Safety_Last!_(1923)_poster.jpg\n",
      "File:Reclaim_2014_film_poster.jpg\n",
      "According_To_Matthew_Poster.JPG\n",
      "File:Shareek_movie_poster.jpg\n",
      "File:Justin_Bieber's_Believe_movie_poster.jpg\n",
      "File:Film_Poster_for_The_Detective.jpg\n",
      "File:Tuntari_Movie_First_Look_poster.jpg\n",
      "Http://cdn.hbowatch.com/wp-content/uploads/2015/11/leisureclass_poster.jpg\n",
      "Teorema_film__Pier_Paolo_Pasolini_xlg.jpg\n",
      "File:Afflicted_2013_movie_poster.jpg\n",
      "File:A_Talking_Cat_(2013_film)_poster.jpg\n",
      "File:The_Houses_October_Built_poster.jpg\n",
      "File:TheHeroesofTelemark.jpg\n",
      "Other_Poster_film_poster.jpg\n",
      "File:Hatchetiiiposter.jpg\n",
      "Https://upload.wikimedia.org/wikipedia/en/4/4f/ugramm_audio.jpeg\n",
      "File:NoBreathingPoster.jpg\n",
      "File:Mockingbird_2014_film_poster.jpg\n",
      "File:They_Look_Like_People_poster.jpg\n",
      "Http://www.onlookersmedia.in/wp-content/uploads/2015/04/chandrettan-evideya-posters-stills-images-dileep-namitha-pramod-anusree-malayalam-movie-2015-onlookers-media-15.jpg\n",
      "File:BridegroomMoviePoster.jpg\n",
      "Oh_god.jpg\n",
      "File:Belaseshe_poster.jpg\n",
      "File:The-celluloid-closet-movie-poster-1996-1020203535.jpg\n",
      "[[File:Pixar_Short_Films_Collection,_Volume_1.png|235px]]\n",
      "Weight_of_Water%2C_The-_2000.jpg\n",
      "Forty_ninth_parallel_%281941%29.jpg\n",
      "File:Besh_Korechi_Prem_Korechi.jpg\n",
      "[[Image:How_to_survive_a_plague_movie_poster.jpg|220px|How_to_Survive_a_Plague]]\n",
      "File:Nine_Legends_Poster.png\n",
      "File:\"A_Brony_Tale\"_Official_Poster.jpg\n",
      "Silent_night_deadly_night_part_2_(vhs_cover).jpg\n",
      "File:Closet_Monster.jpg\n",
      "File:A_Day_at_the_Races_poster_3.jpg\n",
      "Unnaipol_OruvanTamil.jpg\n",
      "File:Bathory_poster.JPG\n",
      "01_filmistan_30x40_poster2.jpg\n",
      "Osthi_Audio_Release_Poster.jpg\n",
      "File:Rock_star.jpg\n",
      "File:Godzilla_vs._Destoroyah_(1995)_Japanese_theatrical_poster.jpg\n",
      "File:Film_Poster_for_Medium_Cool.jpg\n",
      "Othello_cover.jpg\n",
      "File:Back_in_Time_(2015_documentary_film)_poster.jpg\n",
      "File:The_Fashionistas_DVD_Cover_Art.jpg\n",
      "File:Godzilla_vs._King_Ghidorah_(1991)_Japanese_theatrical_poster.jpg\n",
      "Filmbekhudi.jpg\n",
      "[[Image:Company_of_heroes_diskcover.jpg|200px|Company_of_Heroes]]\n",
      "File:Mysteryroad2013.jpg\n",
      "File:Varsham_2014-Malayalam_film_poster.jpg\n",
      "File:John_Day_Poster_(2013).jpg\n",
      "Humkisise.jpg\n",
      "This_Aint_Avatar.jpg_<!--_Fair_use_-->\n",
      "Good_earth_%281937%29.jpg\n",
      "File:Devdas_1955_film_poster.jpg\n",
      "File:Haunt2013horrorfilmposterCarter.jpg\n",
      "File:The_Marine_logo.png\n",
      "Sippai_Poster.jpg\n",
      "Wedry.jpg\n",
      "[https://commons.wikimedia.org/wiki/File:The_Painted_House,_poster_of_Chaayam_Poosiya_Veedu,_aka_The_Painted_House.jpg]\n",
      "File:Allari_Naresh_Bandipotu_Movie_Poster.jpg\n",
      "File:Film_Poster_for_Derek_Jarman's_Blue.jpg\n",
      "Oyee1.jpg\n",
      "File:The_Possession_of_Michael_King_poster.jpg\n",
      "John-Rabe-poster.jpg{{!}}border\n",
      "File:Okka.jpg\n",
      "Veyil4.jpg\n",
      "File:A%C3%B1o_bisiesto_%28Leap_Year%29_Mexican_Film_promotional_picture.jpg\n",
      "File:Barney's-Great-Adventure-Poster.jpeg\n",
      "Raakh,_1989_Hindi_film.jpg_<!--_THIS_IS_IMAGE,_PLEASE_DO_NOT_REMOVED_OR_ALTER._-->\n",
      "File:Stage_Fright_2014_horror_musical_poster.jpg\n",
      "File:Beware_the_slenderman_poster.jpg\n",
      "Uthiri_pookkal.jpg.jpg\n",
      "You_Call_It_Passion_(열정_같은_소리_하고_있네)_Theatrical_Poster.jpg\n",
      "File:Life_of_a_King.jpg\n",
      "File:Return_to_Nim's_Island_poster.jpg\n",
      "File:GenerationUm.jpg\n",
      "[[File:Kink.com_logo.svg|250px]]\n",
      "File:Film_Poster_for_Ladybug_Ladybug.jpg\n",
      "File:Thirudan_Police_poster.jpg\n",
      "File:Cosmic_Scrat-tastrophe_poster.jpg\n",
      "Mickey's_House_of_Villains.jpg<!--Please_do_not_remove_this_image_without_a_valid_explanation-->\n",
      "1984film.jpg\n",
      "[[File:10th-victim.jpg|10th-victim.jpg|200px]]\n",
      "Kabuliwala1961dvd.jpg\n",
      "File:Captains_Courageous_poster.jpg\n",
      "Boncop.jpg\n",
      "[[File:The_Biggest_Focker_Collection_Ever.jpg]]\n",
      "File:Begottenposter.jpg\n",
      "File:Iris_the_Movie_poster.jpg\n",
      "Kaatru_Veliyidai-First_look.jpg\n",
      "[[File:Chotushkone_poster.jpg|215px]]\n",
      "Ijaazat.jpg\n",
      "File:SicilianVampire.Theatricalposter.png\n",
      "File:Powers-of-Ten-film-(1977)-title-card.png\n",
      "File:Vampire2011IwaiFilmPoster.jpg\n",
      "File:ThanatomorphoseFilmPoster.jpg\n",
      "File:Screenshot_from_Under_the_Dome_(2015),_by_Chai_Jing.jpg\n",
      "Lost_horizon_ver1.jpg\n",
      "Ferdinand_Title.jpg\n",
      "File:Amateur_Night_(2016_film).jpg\n",
      "Mp3film.jpg\n",
      "Mumbai_Express_2005_DVD_cover.jpg\n",
      "File:HowardCantourMoviePoster2012.jpg\n",
      "File:ThroughTheLookingGlass1976eroticfilmposter.jpg\n",
      "Lastwinter.jpg{{!}}border\n",
      "[[File:KO_Pooja_1.jpg|frameless]]\n",
      "File:Aparajito_poster.jpg\n",
      "[[File:Somme-film-ad.jpg]]\n",
      "File:Gippi_(2013_film)_-_Poster.jpg\n",
      "File:Edward_II_film_poster.jpg\n",
      "File:Godzilla_vs_SpaceGodzilla_(1994)_Japanese_theatrical_poster.jpg\n",
      "Shorts.jpg\n",
      "File:The_Dino_King_poster.jpg\n",
      "Get_Out_2017_poster.jpg\n",
      "File:The_Trial_Star_Cinema.jpg\n",
      "File:A_Man_Will_Rise.jpg\n",
      "Amatteroffaithposter.jpg\n",
      "AmericasTeam.jpg_<!--_FAIR_USE_of_AmericasTeam.jpg:_see_image_description_page_at_http://en.wikipedia.org/wiki/Image:AmericasTeam.jpg_for_rationale_-->\n",
      "614g0rXDJBL._SS500_.jpg\n",
      "Http://ia.media-imdb.com/images/m/mv5bmjqwnti4mdi2mv5bml5banbnxkftztgwnjc3ndmwode@._v1_uy1200_cr135,0,630,1200_al_.jpg\n",
      "Zootsuit.jpg\n",
      "File:Proxy2013filmposter.jpg\n",
      "File:Nothing_Left_to_Fear_film_poster.jpg\n",
      "File:+1MoviePoster2013.jpg\n",
      "Http://bollywoodtadka.com/wp-content/uploads/2011/11/ghost-2011.jpg\n",
      "The_Case_of_Itaewon_Homicide.jpg{{!}}border\n",
      "File:Le_Coucher_de_la_Mariée.png\n",
      "LawnDogs.jpg\n",
      "File:WolfCop2014_poster.jpg\n",
      "[[Image:ThingsYou_movie_poster.jpg|200px|border]]\n",
      "File:IntroToTheEnemy1974_news.jpg\n",
      "Http://media2.fdncms.com/chicago/imager/movie-poster-for-aelita-queen-of-mars/u/zoom/3479196/600full-aelita-poster_magnum.jpg\n",
      "File:Julia_2014_film_poster.jpg\n",
      "File:Prologue_short_film_poster.png\n",
      "File:Lost_Soul_The_Doomed_Journey_of_Richard_Stanley’s_Island_of_Dr._Moreau.jpg\n",
      "File:Bad_Johnson_movie_poster.jpg\n",
      "I_Come_With_The_Rain_Movie_Poster.jpg.jpg\n",
      "File:That_Forsyte_Woman_-_Poster.jpg\n",
      "AnimalCrackers_Poster_05.jpg\n",
      "Buddy_poster.jpg\n",
      "File:Nuvvila_Movie_Poster.jpg\n",
      "File:Humans_Need_Not_Apply_thumbnail.png\n",
      "File:Hamiltonsposter.jpg\n",
      "File:Godzilla_Against_Mechagodzilla_(2002)_Japanese_theatrical_poster.jpg\n",
      "File:BarbaraBroadcast-1977Film-RadleyMetzger.jpg\n",
      "GVMGII.jpg\n",
      "File:Wish_poster.jpg\n",
      "File:ElegantLies2013Poster.jpg\n",
      "<!--http://aethlos.com/welt/uploaded_images/lost-781483.jpg-->\n",
      "File:Patta_pagalu_film_promo_poster.jpg\n",
      "File:Mother,_Jugs_and_Speed.jpg\n",
      "Professor_Layton_and_the_Eternal_Diva_Poster.jpg<!--_Please_do_NOT_put_the_UK_OR_US_DVD_box_art_on_here._Wikipedia_guidelines_dictate_that_the_original-language_poster_must_be_used_unless_there_is_consensus._-->\n",
      "File:Chirakodinja_Kinaavukal_2015_Malayalam_film_poster.jpg\n",
      "[[File:Chandralekha_1948.jpg|250px]]\n",
      "File:19-Nineteen_poster.jpg\n",
      "File:She's_The_One_Star_Cinema.jpg\n",
      "File:Body_Team_12_poster.png\n",
      "File:Manglish_2014_film_poster.jpg\n",
      "File:The_Huntresses_poster.jpg\n",
      "TheEx.jpg\n",
      "[[File:Heidi_2015_poster.jpg|250px]]\n",
      "Radiohead_-_Meeting_People_Is_Easy.jpg{{!}}border\n",
      "Solstice_(film).jpg\n",
      "File:Patrick_Evil_Awakens_2013_movie_poster.jpg\n",
      "Humorous_Phases_of_Funny_Faces.ogg\n",
      "File:Film_Poster_for_The_Other_Side_of_the_Mountain.jpg\n",
      "Babe_Ruth_Story_(1948_movie).jpg<!--Fair_Use_image,_see_image_file_at_http://en.wikipedia.org/wiki/Image:Babe_Ruth_Story_(1948_movie).jpg-->\n",
      "[[File:Pretty_Peaches_Poster.jpg]]\n",
      "File:Tourist_Trap_(1979)_theatrical_poster.jpg\n",
      "File:Film_Poster_for_The_Sterile_Cuckoo.jpg\n",
      "File:Where_Is_the_Friends_Home.jpg\n",
      "File:Life_According_to_Sam.jpg\n",
      "GXM_Poster.jpg\n",
      "File:Hercules_(1958_film)_poster.jpg\n",
      "File:Apur_Sansar_Poster.jpg\n",
      "Qurbani_dvdcover.jpg\n",
      "Dads_army_movie_.jpg\n",
      "File:Melancholialavdiaz.jpg\n",
      "File:Sx_tape_film_poster_2013.jpg\n",
      "[[File:Gatchaman_(film)_poster.jpg|250px]]\n",
      "File:Magnificomovie.jpg\n",
      "Why_Don't_You_Play_in_Hell?_POSTER.jpg\n",
      "File:We_Can't_Live_Without_Cosmos_film_poster.png\n",
      "File:1971_Hamilton_documentary_poster_2014.jpg\n",
      "File:Kiki's_Delivery_Service_2014_poster.jpg\n",
      "[[File:Tom_and_Jerry's_Giant_Adventure.jpg|220px]]\n",
      "File:CONurse.OriginalUKquadposter.jpg\n",
      "File:Horror_Stories_2_poster.jpg\n",
      "<!--_Deleted_image_removed:_[[File:onok.jpg|{{deletable_image-caption|1=Thursday,_21_August_2008}}]]_-->\n",
      "Jogwa.jpg\n",
      "GATW.jpg\n",
      "File:Bindaas_2014_Movie_Theatrical_Poster_2.jpg\n",
      "Punnagai_Mannan_dvd.jpg\n",
      "File:Angels_of_Sex_DVD_Cover.jpg\n",
      "Jogi.jpg\n",
      "File:The_Image_is_the_Cover_Art_for_\"Cheech_and_Chong's_Animated_Movie.jpg\n",
      "File:The_Target_(2014).jpg\n",
      "File:The_Propaganda_Game.jpg\n",
      "File:Cub_2014_film_poster.jpg\n",
      "Sikandar,_2009_film_poster.jpg_<!--_THIS_IS_AN_IMAGE_FILE,_CAN_ONLY_BE_REPLACED_BY_ANOTHER_IMAGE_FILE_AND_NOT_A_WEB_LINK!_-->\n",
      "Na_Nai'a_Legend_of_the_Dolphins.jpg\n",
      "Brake_Poster.jpg{{!}}border\n",
      "Thering1.jpg\n",
      "<ref>https://twitter.com/search?q=Graghanam&ref_src=twsrc%5Egoogle%7Ctwcamp%5Eserp%7Ctwgr%5Esearch</ref>\n"
     ]
    },
    {
     "data": {
      "text/plain": [
       "15000"
      ]
     },
     "execution_count": 32,
     "metadata": {},
     "output_type": "execute_result"
    }
   ],
   "source": [
    "movies = []\n",
    "for movie in postgres_cursor:\n",
    "    wikicode = mwparserfromhell.parse(movie['wikitext'])\n",
    "    image = None\n",
    "    for template in wikicode.filter_templates():\n",
    "        if template.name.lower().startswith('infobox '):\n",
    "            for param in template.params:\n",
    "                key = param.name.strip()\n",
    "                if key == 'image':\n",
    "                    image = param.value.strip()\n",
    "            break\n",
    "    if image:\n",
    "        image_name = fetch_image(image)\n",
    "    movies.append((movie['title'], image_name, [unicode(x.title) for x in wikicode.filter_wikilinks()], movie['viewcount']))\n",
    "\n",
    "len(movies)\n"
   ]
  },
  {
   "cell_type": "markdown",
   "metadata": {},
   "source": [
    "Now that we have all the movies, extract all the outgoing links (refs) and keep the ones that are used more than once."
   ]
  },
  {
   "cell_type": "code",
   "execution_count": 33,
   "metadata": {
    "collapsed": false,
    "deletable": true,
    "editable": true
   },
   "outputs": [
    {
     "data": {
      "text/plain": [
       "(123697, 263061)"
      ]
     },
     "execution_count": 33,
     "metadata": {},
     "output_type": "execute_result"
    }
   ],
   "source": [
    "ref_counts = Counter()\n",
    "for _, _, refs, _ in movies:\n",
    "    ref_counts.update(refs)\n",
    "all_refs = [ref for ref, count in ref_counts.items() if count > 1]\n",
    "ref_to_id = {ref: idx for idx, ref in enumerate(all_refs)}\n",
    "movie_to_id = {title: idx for idx, (title, _, _, _) in enumerate(movies)}\n",
    "len(all_refs), len(ref_counts)\n"
   ]
  },
  {
   "cell_type": "markdown",
   "metadata": {},
   "source": [
    "Now createthe refs_movie structure that holds for each ref, the movies that refer to it:"
   ]
  },
  {
   "cell_type": "code",
   "execution_count": 34,
   "metadata": {
    "collapsed": false,
    "deletable": true,
    "editable": true
   },
   "outputs": [
    {
     "data": {
      "text/plain": [
       "123696"
      ]
     },
     "execution_count": 34,
     "metadata": {},
     "output_type": "execute_result"
    }
   ],
   "source": [
    "refs_movies = defaultdict(list)\n",
    "for movie, image, refs, viewcounts in movies:\n",
    "    movie_id = movie_to_id[movie]\n",
    "    for ref in refs:\n",
    "        ref_id = ref_to_id.get(ref)\n",
    "        if ref_id:\n",
    "            refs_movies[ref_id].append(movie_id)\n",
    "refs_movies = list(refs_movies.items())\n",
    "len(refs_movies)"
   ]
  },
  {
   "cell_type": "markdown",
   "metadata": {},
   "source": [
    "We now construct a generator that yields tupels that encode whether or not two movies link to the same entity. (The generator can also be used with yield_movie_pairs=False to get movie/entity pairs). +1 indicates co-occurance, -1 indicates non occurance:"
   ]
  },
  {
   "cell_type": "code",
   "execution_count": 35,
   "metadata": {
    "collapsed": false,
    "deletable": true,
    "editable": true
   },
   "outputs": [
    {
     "data": {
      "text/plain": [
       "({'first': array([9167, 9167, 9167, 9167, 9167, 9167, 9383, 9383, 9383, 9383, 9383]),\n",
       "  'second': array([ 4986,  6006, 11310,  5043, 10536,  3768,  6830,  1938, 14685,\n",
       "          9152,  3365])},\n",
       " array([ 1, -1, -1, -1, -1, -1,  1, -1, -1, -1, -1]))"
      ]
     },
     "execution_count": 35,
     "metadata": {},
     "output_type": "execute_result"
    }
   ],
   "source": [
    "import random\n",
    "random.seed(5)\n",
    "\n",
    "def data_generator(refs_movies, negative_ratio=5, yield_movie_pairs=True):\n",
    "    random.shuffle(refs_movies)\n",
    "    for ref, movies in refs_movies:\n",
    "        if yield_movie_pairs:\n",
    "            if len(movies) < 2: continue\n",
    "            a, b = random.sample(movies, 2)\n",
    "        else:\n",
    "            a = ref\n",
    "            b = random.choice(movies)\n",
    "        yield a, b, 1\n",
    "\n",
    "        seen = set(movies)\n",
    "        left = negative_ratio\n",
    "        while left > 0:\n",
    "            n = random.randrange(len(movie_to_id))\n",
    "            if not n in seen:\n",
    "                left -= 1\n",
    "                seen.add(n)\n",
    "                yield a, n, -1\n",
    "\n",
    "\n",
    "def batchify(gen, batch_size):\n",
    "    ax, bx, lx = [], [], []\n",
    "    while True:\n",
    "        for a, b, label in gen():\n",
    "            ax.append(a)\n",
    "            bx.append(b)\n",
    "            lx.append(label)\n",
    "            if len(ax) > batch_size:\n",
    "                yield { 'first': np.asarray(ax), 'second': np.asarray(bx)}, np.asarray(lx)\n",
    "                del ax[:]\n",
    "                del bx[:]\n",
    "                del lx[:]\n",
    "\n",
    "next(batchify(lambda: data_generator(refs_movies), batch_size=10))"
   ]
  },
  {
   "cell_type": "markdown",
   "metadata": {},
   "source": [
    "The model itself is fairly straightforward:"
   ]
  },
  {
   "cell_type": "code",
   "execution_count": 90,
   "metadata": {
    "collapsed": false,
    "deletable": true,
    "editable": true
   },
   "outputs": [
    {
     "name": "stderr",
     "output_type": "stream",
     "text": [
      "/home/notebook/notebook/venv2/lib/python2.7/site-packages/ipykernel/__main__.py:8: UserWarning: The `merge` function is deprecated and will be removed after 08/2017. Use instead layers from `keras.layers.merge`, e.g. `add`, `concatenate`, etc.\n"
     ]
    }
   ],
   "source": [
    "N = 20\n",
    "\n",
    "def model_simple():\n",
    "    src = Input(name='first', shape=(1,))\n",
    "    dst = Input(name='second', shape=(1,))\n",
    "    src_embedding = Embedding(name='src_embedding', input_dim=len(movie_to_id), output_dim=N)(src)\n",
    "    dst_embedding = Embedding(name='dst_embedding', input_dim=len(movie_to_id), output_dim=N)(dst)\n",
    "    dot = merge([src_embedding, dst_embedding], mode='cos')\n",
    "    dot = Reshape((1,))(dot)\n",
    "    model = Model(inputs=[src, dst], outputs=[dot])\n",
    "    model.compile(optimizer='nadam', loss='mse')\n",
    "    return model\n",
    "\n",
    "model = model_simple()"
   ]
  },
  {
   "cell_type": "markdown",
   "metadata": {},
   "source": [
    "It converges quite quickly too. The achieved loss isn't super impressive - 0.4 or so:"
   ]
  },
  {
   "cell_type": "code",
   "execution_count": 91,
   "metadata": {
    "collapsed": false,
    "deletable": true,
    "editable": true
   },
   "outputs": [
    {
     "name": "stdout",
     "output_type": "stream",
     "text": [
      "Epoch 1/25\n",
      "19s - loss: 0.5712\n",
      "Epoch 2/25\n",
      "19s - loss: 0.4430\n",
      "Epoch 3/25\n",
      "19s - loss: 0.4307\n",
      "Epoch 4/25\n",
      "19s - loss: 0.4255\n",
      "Epoch 5/25\n",
      "19s - loss: 0.4228\n",
      "Epoch 6/25\n",
      "19s - loss: 0.4206\n",
      "Epoch 7/25\n",
      "19s - loss: 0.4191\n",
      "Epoch 8/25\n",
      "19s - loss: 0.4181\n",
      "Epoch 9/25\n",
      "19s - loss: 0.4175\n",
      "Epoch 10/25\n",
      "19s - loss: 0.4166\n",
      "Epoch 11/25\n",
      "19s - loss: 0.4160\n",
      "Epoch 12/25\n",
      "19s - loss: 0.4153\n",
      "Epoch 13/25\n",
      "19s - loss: 0.4149\n",
      "Epoch 14/25\n",
      "19s - loss: 0.4145\n",
      "Epoch 15/25\n",
      "19s - loss: 0.4143\n",
      "Epoch 16/25\n",
      "19s - loss: 0.4140\n",
      "Epoch 17/25\n",
      "19s - loss: 0.4139\n",
      "Epoch 18/25\n",
      "19s - loss: 0.4135\n",
      "Epoch 19/25\n",
      "19s - loss: 0.4132\n",
      "Epoch 20/25\n",
      "19s - loss: 0.4132\n",
      "Epoch 21/25\n",
      "19s - loss: 0.4131\n",
      "Epoch 22/25\n",
      "19s - loss: 0.4127\n",
      "Epoch 23/25\n",
      "19s - loss: 0.4124\n",
      "Epoch 24/25\n",
      "19s - loss: 0.4125\n",
      "Epoch 25/25\n",
      "19s - loss: 0.4123\n"
     ]
    },
    {
     "data": {
      "text/plain": [
       "<keras.callbacks.History at 0x7f070e8504d0>"
      ]
     },
     "execution_count": 91,
     "metadata": {},
     "output_type": "execute_result"
    }
   ],
   "source": [
    "model.fit_generator(\n",
    "    batchify(lambda: data_generator(refs_movies, yield_movie_pairs=True), 2048),\n",
    "    epochs=25,\n",
    "    steps_per_epoch=2500,\n",
    "    verbose=2\n",
    ")"
   ]
  },
  {
   "cell_type": "markdown",
   "metadata": {},
   "source": [
    "Extract the weights for the movie embeddings:"
   ]
  },
  {
   "cell_type": "code",
   "execution_count": 93,
   "metadata": {
    "collapsed": false,
    "deletable": true,
    "editable": true
   },
   "outputs": [
    {
     "data": {
      "text/plain": [
       "(0.99999994, (15000, 20))"
      ]
     },
     "execution_count": 93,
     "metadata": {},
     "output_type": "execute_result"
    }
   ],
   "source": [
    "src = model.get_layer('src_embedding')\n",
    "src_weights = src.get_weights()[0]\n",
    "lens = np.linalg.norm(src_weights, axis=1)\n",
    "normalized = (src_weights.T / lens).T\n",
    "np.linalg.norm(normalized[0]), normalized.shape"
   ]
  },
  {
   "cell_type": "markdown",
   "metadata": {},
   "source": [
    "Test whether it works by looking for \"star wars\" related movies."
   ]
  },
  {
   "cell_type": "code",
   "execution_count": 94,
   "metadata": {
    "collapsed": false,
    "deletable": true,
    "editable": true
   },
   "outputs": [
    {
     "name": "stdout",
     "output_type": "stream",
     "text": [
      "(141, 'Alien (film)', 0.95992392)\n",
      "(299, 'Aliens (film)', 0.96417904)\n",
      "(683, 'Superman (1978 film)', 0.96679217)\n",
      "(692, 'Indiana Jones and the Last Crusade', 0.96781969)\n",
      "(303, 'Raiders of the Lost Ark', 0.96987587)\n",
      "(531, 'Indiana Jones and the Kingdom of the Crystal Skull', 0.97147727)\n",
      "(639, 'Indiana Jones and the Temple of Doom', 0.97852415)\n",
      "(44, 'Return of the Jedi', 0.98076451)\n",
      "(74, 'The Empire Strikes Back', 0.9930464)\n",
      "(18, 'Star Wars (film)', 1.0)\n"
     ]
    }
   ],
   "source": [
    "def neighbors(movie):\n",
    "    dists = np.dot(normalized, normalized[movie_to_id[movie]])\n",
    "    closest = np.argsort(dists)[-10:]\n",
    "    for c in closest:\n",
    "        print(c, movies[c][0], dists[c])\n",
    "\n",
    "neighbors('Star Wars (film)')"
   ]
  },
  {
   "cell_type": "markdown",
   "metadata": {},
   "source": [
    "Another way to explore the data is by using TSNE to group the movies on a two dimensional grid. "
   ]
  },
  {
   "cell_type": "code",
   "execution_count": 96,
   "metadata": {
    "collapsed": false,
    "deletable": true,
    "editable": true
   },
   "outputs": [
    {
     "data": {
      "text/plain": [
       "array([[ 4.53418439,  3.56113736],\n",
       "       [ 5.95506492,  0.98527116],\n",
       "       [ 4.58688842,  3.55271489],\n",
       "       ..., \n",
       "       [-4.03881354, -0.75918775],\n",
       "       [-4.89163696,  3.051328  ],\n",
       "       [-0.6963777 , -4.09080742]])"
      ]
     },
     "execution_count": 96,
     "metadata": {},
     "output_type": "execute_result"
    }
   ],
   "source": [
    "model = TSNE(n_components=2, random_state=0)\n",
    "np.set_printoptions(suppress=True)\n",
    "xy = model.fit_transform(normalized)\n",
    "xy"
   ]
  },
  {
   "cell_type": "markdown",
   "metadata": {},
   "source": [
    "Scatter Plot the first 300 movies to get an idea of whether what the shape is we are looking at:"
   ]
  },
  {
   "cell_type": "code",
   "execution_count": 97,
   "metadata": {
    "collapsed": false,
    "deletable": true,
    "editable": true
   },
   "outputs": [
    {
     "data": {
      "image/png": "[encoded data removed]",
      "text/plain": [
       "<matplotlib.figure.Figure at 0x7f070c12c050>"
      ]
     },
     "metadata": {},
     "output_type": "display_data"
    }
   ],
   "source": [
    "plt.scatter(xy[:,0][:200], xy[:,1][:200])\n",
    "plt.show()\n",
    "#xy[:,1][:20]"
   ]
  },
  {
   "cell_type": "markdown",
   "metadata": {},
   "source": [
    "We can now create a large bitmap that has the movie posters of all movies on it which we can then use to interactively explore neighborhoods of movies. We just loop through all the movies in reverse order and plot them at the position where they are needed, making sure to "
   ]
  },
  {
   "cell_type": "code",
   "execution_count": 98,
   "metadata": {
    "collapsed": false,
    "deletable": true,
    "editable": true
   },
   "outputs": [
    {
     "data": {
      "text/plain": [
       "(-6.7600423666041829,\n",
       " -6.905207931918607,\n",
       " 6.6237745796683951,\n",
       " 6.5443287810698969)"
      ]
     },
     "execution_count": 98,
     "metadata": {},
     "output_type": "execute_result"
    }
   ],
   "source": [
    "w = 240\n",
    "h = 400\n",
    "res = []\n",
    "sz = 40\n",
    "x_min = xy.T[0].min()\n",
    "y_min = xy.T[1].min()\n",
    "x_max = xy.T[0].max()\n",
    "y_max = xy.T[1].max()\n",
    "img = Image.new('RGB', (sz * w, sz * h))\n",
    "drw = ImageDraw.Draw(img)\n",
    "for movie, coo in reversed(zip(movies, xy)):\n",
    "    if not movie[1]:\n",
    "        continue\n",
    "    poster = Image.open(image_cache + '/' + movie[1])\n",
    "    poster.thumbnail((w, h), Image.ANTIALIAS)\n",
    "    x = int(sz * (coo[0] - x_min) / (x_max - x_min)) * w\n",
    "    y = int(sz * (coo[1] - y_min) / (y_max - y_min)) * h\n",
    "    drw.rectangle((x, y, x + w, y + h), (50, 50, 50))\n",
    "    res.append((x, y, movie[1], poster.size[0], poster.size[1]))\n",
    "    img.paste(poster, (x + (w - poster.size[0]) / 2, y  + (h - poster.size[1]) / 2))\n",
    "\n",
    "img.save(open('/home/notebook/notebook/poster.png', 'wb'))\n",
    "    \n",
    "x_min, y_min, x_max, y_max"
   ]
  },
  {
   "cell_type": "markdown",
   "metadata": {
    "collapsed": false,
    "deletable": true,
    "editable": true
   },
   "source": [
    "As a last step, we write the resulting data back into the database to power the interactive demo"
   ]
  },
  {
   "cell_type": "code",
   "execution_count": 99,
   "metadata": {
    "collapsed": false,
    "deletable": true,
    "editable": true
   },
   "outputs": [],
   "source": [
    "cursor = postgres_conn.cursor()\n",
    "cursor.execute('DROP TABLE IF EXISTS movie_recommender')\n",
    "cursor.execute('CREATE TABLE movie_recommender ('\n",
    "               '    wikipedia_id TEXT PRIMARY KEY,'\n",
    "               '    viewcount INT,'\n",
    "               '    image TEXT,'\n",
    "               '    x FLOAT,'\n",
    "               '    y FLOAT,'\n",
    "               '    vec FLOAT[] NOT NULL DEFAULT \\'{}\\''\n",
    "               ')')\n",
    "cursor.execute('CREATE INDEX movie_recommender_vec ON movie_recommender USING gin(vec)')\n",
    "cursor.execute('CREATE INDEX movie_recommender_name_pattern ON movie_recommender USING btree(lower(wikipedia_id) text_pattern_ops)')\n",
    "cursor.execute('CREATE INDEX movie_recommender_viewcount ON movie_recommender(viewcount)')\n"
   ]
  },
  {
   "cell_type": "code",
   "execution_count": 100,
   "metadata": {
    "collapsed": false,
    "deletable": true,
    "editable": true
   },
   "outputs": [],
   "source": [
    "for movie, coo, weights in zip(movies, xy, src_weights):\n",
    "    x = int(sz * (coo[0] - x_min) / (x_max - x_min)) * w\n",
    "    y = int(sz * (coo[1] - y_min) / (y_max - y_min)) * h\n",
    "    v_len = np.linalg.norm(weights)\n",
    "    cursor.execute('INSERT INTO movie_recommender (wikipedia_id, image, viewcount, x, y, vec) '\n",
    "                   'VALUES (%s, %s, %s, %s, %s, %s)',\n",
    "                            (movie[0], movie[1], movie[-1], x, y,\n",
    "                             [float(weight) / v_len for weight in weights]))\n",
    "    "
   ]
  },
  {
   "cell_type": "code",
   "execution_count": 101,
   "metadata": {
    "collapsed": false,
    "deletable": true,
    "editable": true
   },
   "outputs": [],
   "source": [
    "postgres_conn.commit()\n",
    "cursor.close()"
   ]
  },
  {
   "cell_type": "code",
   "execution_count": 102,
   "metadata": {
    "collapsed": false
   },
   "outputs": [
    {
     "name": "stdout",
     "output_type": "stream",
     "text": [
      "(433, 'The Bourne Ultimatum (film)', 0.93779886)\n",
      "(9154, 'Motifs in the James Bond film series', 0.94601315)\n",
      "(450, 'Dunkirk (2017 film)', 0.9479382)\n",
      "(1126, 'The Living Daylights', 0.94958115)\n",
      "(347, 'Die Another Day', 0.95319188)\n",
      "(710, 'The World Is Not Enough', 0.9595058)\n",
      "(66, 'Skyfall', 0.97020555)\n",
      "(114, 'Casino Royale (2006 film)', 0.97462362)\n",
      "(166, 'Quantum of Solace', 0.97668374)\n",
      "(3, 'Spectre (2015 film)', 1.0)\n"
     ]
    }
   ],
   "source": [
    "neighbors('Spectre (2015 film)')"
   ]
  },
  {
   "cell_type": "code",
   "execution_count": 117,
   "metadata": {
    "collapsed": false
   },
   "outputs": [
    {
     "data": {
      "text/plain": [
       "(3600, 4400)"
      ]
     },
     "execution_count": 117,
     "metadata": {},
     "output_type": "execute_result"
    }
   ],
   "source": [
    "coo = xy[3]\n",
    "x = int(sz * (coo[0] - x_min) / (x_max - x_min)) * w\n",
    "y = int(sz * (coo[1] - y_min) / (y_max - y_min)) * h\n",
    "x, y"
   ]
  },
  {
   "cell_type": "code",
   "execution_count": 118,
   "metadata": {
    "collapsed": false
   },
   "outputs": [
    {
     "data": {
      "text/plain": [
       "13"
      ]
     },
     "execution_count": 118,
     "metadata": {},
     "output_type": "execute_result"
    }
   ],
   "source": [
    "frames = []\n",
    "size = 4800\n",
    "i = 0\n",
    "x1 = x + 75\n",
    "y1 = y + 200\n",
    "while size > 480:\n",
    "    width2 = int(size / 2)\n",
    "    height2 = int(size / 3)\n",
    "    img_crop = img.crop((x1 - width2, y1 - height2, x1 + width2, y1 + height2))\n",
    "    img_crop = img_crop.resize((600, 400))\n",
    "    fn = 'movie_images/frame_%d.png' % i\n",
    "    img_crop.save(fn)\n",
    "    frames.append(fn)\n",
    "    size /= 1.2\n",
    "    i += 1\n",
    "len(frames)"
   ]
  },
  {
   "cell_type": "code",
   "execution_count": 123,
   "metadata": {
    "collapsed": false
   },
   "outputs": [
    {
     "data": {
      "text/html": [
       "<img src=\"https://douweosinga.com/static/projects/movie_recommend/movie_recommend.gif\">"
      ],
      "text/plain": [
       "<IPython.core.display.HTML object>"
      ]
     },
     "metadata": {},
     "output_type": "display_data"
    }
   ],
   "source": [
    "imageio.mimsave('movie_recommend.gif', [imageio.imread(frame) for frame in frames], 'GIF', duration=0.5)\n",
    "display(HTML('<img src=\"movie_recommend.gif\">'))"
   ]
  }
 ],
 "metadata": {
  "kernelspec": {
   "display_name": "Python 2",
   "language": "python",
   "name": "python2"
  },
  "language_info": {
   "codemirror_mode": {
    "name": "ipython",
    "version": 2
   },
   "file_extension": ".py",
   "mimetype": "text/x-python",
   "name": "python",
   "nbconvert_exporter": "python",
   "pygments_lexer": "ipython2",
   "version": "2.7.12"
  }
 },
 "nbformat": 4,
 "nbformat_minor": 2
}
