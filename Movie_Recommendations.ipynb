{
 "cells": [
  {
   "cell_type": "markdown",
   "metadata": {
    "deletable": true,
    "editable": true
   },
   "source": [
    "# Movie Recommendations based Wikilinks\n",
    "\n",
    "Movie recommendation systems are usually based on ratings. The code below though only looks at links from the wikipedia pages of movies. The intuition here is that movies that are similar, will link to similar entities. This could be style, actors, directors or time periods.\n",
    "\n",
    "We train an embedding model that tries to predict whether two movies both link to an entity or not. We can then use the resulting embedding vectors to find nearest neighbors and create something that says, if you like this movie, try out also that movie."
   ]
  },
  {
   "cell_type": "markdown",
   "metadata": {
    "deletable": true,
    "editable": true
   },
   "source": [
    "First start with a bunch of imports:"
   ]
  },
  {
   "cell_type": "code",
   "execution_count": 1,
   "metadata": {
    "collapsed": false,
    "deletable": true,
    "editable": true
   },
   "outputs": [
    {
     "name": "stderr",
     "output_type": "stream",
     "text": [
      "Using TensorFlow backend.\n"
     ]
    }
   ],
   "source": [
    "%matplotlib inline\n",
    "\n",
    "import os\n",
    "import numpy as np\n",
    "\n",
    "import psycopg2\n",
    "import psycopg2.extras\n",
    "from itertools import chain\n",
    "from collections import Counter, defaultdict\n",
    "import requests\n",
    "import imageio\n",
    "\n",
    "import matplotlib.pyplot as plt\n",
    "import numpy as np\n",
    "from PIL import Image, ImageDraw\n",
    "from io import BytesIO\n",
    "from hashlib import md5\n",
    "from IPython.display import display, HTML\n",
    "\n",
    "from itertools import chain\n",
    "import mwparserfromhell\n",
    "\n",
    "from keras.models import Model\n",
    "from keras.layers import Embedding, Dense, Input, Lambda, Reshape, merge\n",
    "import keras.backend as K\n",
    "from keras.layers.merge import Dot\n",
    "\n",
    "from sklearn.manifold import TSNE"
   ]
  },
  {
   "cell_type": "markdown",
   "metadata": {
    "deletable": true,
    "editable": true
   },
   "source": [
    "The fetch_image function below fetches an image from wikipedia given a wikipedia id for that image:"
   ]
  },
  {
   "cell_type": "code",
   "execution_count": 2,
   "metadata": {
    "collapsed": false,
    "deletable": true,
    "editable": true
   },
   "outputs": [
    {
     "data": {
      "text/plain": [
       "'Suicide_Squad_(film)_Poster.png'"
      ]
     },
     "execution_count": 2,
     "metadata": {},
     "output_type": "execute_result"
    }
   ],
   "source": [
    "IMAGE_PATH_EN = 'http://upload.wikimedia.org/wikipedia/en/%s/%s/%s'\n",
    "IMAGE_PATH_COMMONS = 'http://upload.wikimedia.org/wikipedia/commons/%s/%s/%s'\n",
    "image_cache = 'movie_images'\n",
    "\n",
    "def fetch_image(image_name):\n",
    "    if not image_name or image_name.endswith('.tiff'):\n",
    "        return None\n",
    "    image_name = image_name.replace(' ', '_')\n",
    "    if image_name[0].upper() != image_name[0]:\n",
    "        image_name = image_name.capitalize()\n",
    "    file_path = os.path.join(image_cache, image_name)\n",
    "    if os.path.isfile(file_path):\n",
    "        return image_name\n",
    "    else:\n",
    "        m = md5()\n",
    "        m.update(image_name.encode('utf-8'))\n",
    "        c = m.hexdigest()\n",
    "        path = IMAGE_PATH_EN % (c[0], c[0:2], image_name)\n",
    "        r = requests.get(path)\n",
    "        if r.status_code == 404:\n",
    "            path = IMAGE_PATH_COMMONS % (c[0], c[0:2], image_name)\n",
    "            r = requests.get(path)\n",
    "            if r.status_code == 404:\n",
    "                print image_name\n",
    "                return None\n",
    "        try:\n",
    "            image = Image.open(BytesIO(r.content))\n",
    "        except IOError:\n",
    "            return None\n",
    "        except ValueError:\n",
    "            return None\n",
    "        image.save(file(file_path, 'w'))\n",
    "        image.thumbnail((240, 640), Image.ANTIALIAS)\n",
    "        res = BytesIO()\n",
    "        if image.mode == 'P':\n",
    "            image = image.convert('RGB')\n",
    "        try:\n",
    "            image.save(res, 'WEBP', quality=15)\n",
    "        except IOError as err:\n",
    "            print image_name, err.message\n",
    "            return None\n",
    "        return image_name\n",
    "\n",
    "fetch_image('Suicide Squad (film) Poster.png')"
   ]
  },
  {
   "cell_type": "markdown",
   "metadata": {
    "deletable": true,
    "editable": true
   },
   "source": [
    "The code here relies on wikipedia having been imported into Postgres using [Wiki Import](https://github.com/DOsinga/wiki_import). So we setup a connection to postgres, fetch the 10000 most popular movies and then extract for each the movie name, the image for the movie and the outgoing links from that page"
   ]
  },
  {
   "cell_type": "code",
   "execution_count": 3,
   "metadata": {
    "collapsed": false,
    "deletable": true,
    "editable": true
   },
   "outputs": [],
   "source": [
    "postgres_conn = psycopg2.connect('dbname=douwe user=notebook')\n",
    "postgres_cursor = postgres_conn.cursor(cursor_factory=psycopg2.extras.DictCursor)"
   ]
  },
  {
   "cell_type": "code",
   "execution_count": 4,
   "metadata": {
    "collapsed": false,
    "deletable": true,
    "editable": true
   },
   "outputs": [
    {
     "name": "stdout",
     "output_type": "stream",
     "text": [
      "Getting top movies...\n",
      "done\n"
     ]
    }
   ],
   "source": [
    "print 'Getting top movies...'\n",
    "postgres_cursor.execute(\n",
    "    \"SELECT wikipedia.*, wikistats.viewcount FROM wikipedia \"\n",
    "    \"JOIN wikistats ON wikipedia.title = wikistats.title WHERE wikipedia.infobox = 'film' \"\n",
    "    \"ORDER BY wikistats.viewcount DESC limit 10000\"\n",
    ")\n",
    "print 'done'"
   ]
  },
  {
   "cell_type": "code",
   "execution_count": 5,
   "metadata": {
    "collapsed": false,
    "deletable": true,
    "editable": true
   },
   "outputs": [
    {
     "name": "stdout",
     "output_type": "stream",
     "text": [
      "Veyil4.jpg\n"
     ]
    },
    {
     "data": {
      "text/plain": [
       "10000"
      ]
     },
     "execution_count": 5,
     "metadata": {},
     "output_type": "execute_result"
    }
   ],
   "source": [
    "movies = []\n",
    "for movie in postgres_cursor:\n",
    "    wikicode = mwparserfromhell.parse(movie['wikitext'])\n",
    "    image = None\n",
    "    for template in wikicode.filter_templates():\n",
    "        if template.name.lower().startswith('infobox '):\n",
    "            for param in template.params:\n",
    "                key = param.name.strip()\n",
    "                if key == 'image':\n",
    "                    image = param.value.strip()\n",
    "            break\n",
    "    if image:\n",
    "        image_name = fetch_image(image)\n",
    "    movies.append((movie['title'], image_name, [unicode(x.title) for x in wikicode.filter_wikilinks()], movie['viewcount']))\n",
    "\n",
    "len(movies)\n"
   ]
  },
  {
   "cell_type": "markdown",
   "metadata": {
    "deletable": true,
    "editable": true
   },
   "source": [
    "Now that we have all the movies, extract all the outgoing links (refs) and keep the ones that are used more than once."
   ]
  },
  {
   "cell_type": "code",
   "execution_count": 6,
   "metadata": {
    "collapsed": false,
    "deletable": true,
    "editable": true
   },
   "outputs": [
    {
     "data": {
      "text/plain": [
       "(101797, 218227)"
      ]
     },
     "execution_count": 6,
     "metadata": {},
     "output_type": "execute_result"
    }
   ],
   "source": [
    "ref_counts = Counter()\n",
    "for _, _, refs, _ in movies:\n",
    "    ref_counts.update(refs)\n",
    "all_refs = [ref for ref, count in ref_counts.items() if count > 1]\n",
    "ref_to_id = {ref: idx for idx, ref in enumerate(all_refs)}\n",
    "movie_to_id = {title: idx for idx, (title, _, _, _) in enumerate(movies)}\n",
    "len(all_refs), len(ref_counts)\n"
   ]
  },
  {
   "cell_type": "markdown",
   "metadata": {
    "deletable": true,
    "editable": true
   },
   "source": [
    "Now createthe refs_movie structure that holds for each ref, the movies that refer to it:"
   ]
  },
  {
   "cell_type": "code",
   "execution_count": 7,
   "metadata": {
    "collapsed": false,
    "deletable": true,
    "editable": true
   },
   "outputs": [
    {
     "data": {
      "text/plain": [
       "101796"
      ]
     },
     "execution_count": 7,
     "metadata": {},
     "output_type": "execute_result"
    }
   ],
   "source": [
    "refs_movies = defaultdict(list)\n",
    "for movie, image, refs, viewcounts in movies:\n",
    "    movie_id = movie_to_id[movie]\n",
    "    for ref in refs:\n",
    "        ref_id = ref_to_id.get(ref)\n",
    "        if ref_id:\n",
    "            refs_movies[ref_id].append(movie_id)\n",
    "refs_movies = list(refs_movies.items())\n",
    "len(refs_movies)"
   ]
  },
  {
   "cell_type": "markdown",
   "metadata": {
    "deletable": true,
    "editable": true
   },
   "source": [
    "We now construct a generator that yields tupels that encode whether or not two movies link to the same entity. (The generator can also be used with yield_movie_pairs=False to get movie/entity pairs). +1 indicates co-occurance, -1 indicates non occurance:"
   ]
  },
  {
   "cell_type": "code",
   "execution_count": 8,
   "metadata": {
    "collapsed": false,
    "deletable": true,
    "editable": true
   },
   "outputs": [
    {
     "data": {
      "text/plain": [
       "({'first': array([8597, 8597, 8597, 8597, 8597, 8597,  145,  145,  145,  145,  145]),\n",
       "  'second': array([8704, 1377,  405, 3232, 7740, 6794,  245, 4028, 8469, 9101, 9537])},\n",
       " array([ 1, -1, -1, -1, -1, -1,  1, -1, -1, -1, -1]))"
      ]
     },
     "execution_count": 8,
     "metadata": {},
     "output_type": "execute_result"
    }
   ],
   "source": [
    "import random\n",
    "random.seed(5)\n",
    "\n",
    "def data_generator(refs_movies, negative_ratio=5, yield_movie_pairs=True):\n",
    "    random.shuffle(refs_movies)\n",
    "    for ref, movies in refs_movies:\n",
    "        if yield_movie_pairs:\n",
    "            if len(movies) < 2: continue\n",
    "            a, b = random.sample(movies, 2)\n",
    "        else:\n",
    "            a = ref\n",
    "            b = random.choice(movies)\n",
    "        yield a, b, 1\n",
    "\n",
    "        seen = set(movies)\n",
    "        left = negative_ratio\n",
    "        while left > 0:\n",
    "            n = random.randrange(len(movie_to_id))\n",
    "            if not n in seen:\n",
    "                left -= 1\n",
    "                seen.add(n)\n",
    "                yield a, n, -1\n",
    "\n",
    "\n",
    "def batchify(gen, batch_size):\n",
    "    ax, bx, lx = [], [], []\n",
    "    while True:\n",
    "        for a, b, label in gen():\n",
    "            ax.append(a)\n",
    "            bx.append(b)\n",
    "            lx.append(label)\n",
    "            if len(ax) > batch_size:\n",
    "                yield { 'first': np.asarray(ax), 'second': np.asarray(bx)}, np.asarray(lx)\n",
    "                del ax[:]\n",
    "                del bx[:]\n",
    "                del lx[:]\n",
    "\n",
    "next(batchify(lambda: data_generator(refs_movies), batch_size=10))"
   ]
  },
  {
   "cell_type": "markdown",
   "metadata": {
    "deletable": true,
    "editable": true
   },
   "source": [
    "The model itself is fairly straightforward:"
   ]
  },
  {
   "cell_type": "code",
   "execution_count": 9,
   "metadata": {
    "collapsed": false,
    "deletable": true,
    "editable": true
   },
   "outputs": [
    {
     "name": "stderr",
     "output_type": "stream",
     "text": [
      "/home/notebook/notebook/venv2/lib/python2.7/site-packages/ipykernel/__main__.py:8: UserWarning: The `merge` function is deprecated and will be removed after 08/2017. Use instead layers from `keras.layers.merge`, e.g. `add`, `concatenate`, etc.\n",
      "/home/notebook/notebook/venv2/local/lib/python2.7/site-packages/keras/legacy/layers.py:456: UserWarning: The `Merge` layer is deprecated and will be removed after 08/2017. Use instead layers from `keras.layers.merge`, e.g. `add`, `concatenate`, etc.\n",
      "  name=name)\n"
     ]
    }
   ],
   "source": [
    "N = 20\n",
    "\n",
    "def model_simple():\n",
    "    src = Input(name='first', shape=(1,))\n",
    "    dst = Input(name='second', shape=(1,))\n",
    "    src_embedding = Embedding(name='src_embedding', input_dim=len(movie_to_id), output_dim=N)(src)\n",
    "    dst_embedding = Embedding(name='dst_embedding', input_dim=len(movie_to_id), output_dim=N)(dst)\n",
    "    dot = merge([src_embedding, dst_embedding], mode='cos')\n",
    "    dot = Reshape((1,))(dot)\n",
    "    model = Model(inputs=[src, dst], outputs=[dot])\n",
    "    model.compile(optimizer='nadam', loss='mse')\n",
    "    return model\n",
    "\n",
    "model = model_simple()"
   ]
  },
  {
   "cell_type": "markdown",
   "metadata": {
    "deletable": true,
    "editable": true
   },
   "source": [
    "It converges quite quickly too. The achieved loss isn't super impressive - 0.4 or so:"
   ]
  },
  {
   "cell_type": "code",
   "execution_count": 10,
   "metadata": {
    "collapsed": false,
    "deletable": true,
    "editable": true
   },
   "outputs": [
    {
     "name": "stdout",
     "output_type": "stream",
     "text": [
      "Epoch 1/25\n",
      "24s - loss: 0.5171\n",
      "Epoch 2/25\n",
      "24s - loss: 0.4338\n",
      "Epoch 3/25\n",
      "24s - loss: 0.4276\n",
      "Epoch 4/25\n",
      "24s - loss: 0.4248\n",
      "Epoch 5/25\n",
      "24s - loss: 0.4230\n",
      "Epoch 6/25\n",
      "24s - loss: 0.4218\n",
      "Epoch 7/25\n",
      "24s - loss: 0.4209\n",
      "Epoch 8/25\n",
      "24s - loss: 0.4203\n",
      "Epoch 9/25\n",
      "24s - loss: 0.4197\n",
      "Epoch 10/25\n",
      "24s - loss: 0.4192\n",
      "Epoch 11/25\n",
      "24s - loss: 0.4189\n",
      "Epoch 12/25\n",
      "24s - loss: 0.4184\n",
      "Epoch 13/25\n",
      "24s - loss: 0.4183\n",
      "Epoch 14/25\n",
      "24s - loss: 0.4180\n",
      "Epoch 15/25\n",
      "24s - loss: 0.4178\n",
      "Epoch 16/25\n",
      "24s - loss: 0.4177\n",
      "Epoch 17/25\n",
      "24s - loss: 0.4174\n",
      "Epoch 18/25\n",
      "24s - loss: 0.4173\n",
      "Epoch 19/25\n",
      "24s - loss: 0.4172\n",
      "Epoch 20/25\n",
      "24s - loss: 0.4170\n",
      "Epoch 21/25\n",
      "24s - loss: 0.4169\n",
      "Epoch 22/25\n",
      "24s - loss: 0.4170\n",
      "Epoch 23/25\n",
      "24s - loss: 0.4167\n",
      "Epoch 24/25\n",
      "24s - loss: 0.4167\n",
      "Epoch 25/25\n",
      "24s - loss: 0.4166\n"
     ]
    },
    {
     "data": {
      "text/plain": [
       "<keras.callbacks.History at 0x7f576e593250>"
      ]
     },
     "execution_count": 10,
     "metadata": {},
     "output_type": "execute_result"
    }
   ],
   "source": [
    "model.fit_generator(\n",
    "    batchify(lambda: data_generator(refs_movies, yield_movie_pairs=True), 2048),\n",
    "    epochs=25,\n",
    "    steps_per_epoch=3500,\n",
    "    verbose=2\n",
    ")"
   ]
  },
  {
   "cell_type": "markdown",
   "metadata": {
    "deletable": true,
    "editable": true
   },
   "source": [
    "Extract the weights for the movie embeddings:"
   ]
  },
  {
   "cell_type": "code",
   "execution_count": 11,
   "metadata": {
    "collapsed": false,
    "deletable": true,
    "editable": true
   },
   "outputs": [
    {
     "data": {
      "text/plain": [
       "(1.0, (10000, 20))"
      ]
     },
     "execution_count": 11,
     "metadata": {},
     "output_type": "execute_result"
    }
   ],
   "source": [
    "src = model.get_layer('src_embedding')\n",
    "src_weights = src.get_weights()[0]\n",
    "lens = np.linalg.norm(src_weights, axis=1)\n",
    "normalized = (src_weights.T / lens).T\n",
    "np.linalg.norm(normalized[0]), normalized.shape"
   ]
  },
  {
   "cell_type": "markdown",
   "metadata": {
    "deletable": true,
    "editable": true
   },
   "source": [
    "Test whether it works by looking for \"star wars\" related movies."
   ]
  },
  {
   "cell_type": "code",
   "execution_count": 12,
   "metadata": {
    "collapsed": false,
    "deletable": true,
    "editable": true
   },
   "outputs": [
    {
     "name": "stdout",
     "output_type": "stream",
     "text": [
      "(6444, 'Return of the Ewok', 0.95703477)\n",
      "(683, 'Superman (1978 film)', 0.95719445)\n",
      "(9456, 'Doppelg\\xc3\\xa4nger (1969 film)', 0.95741284)\n",
      "(4145, 'Dragonslayer', 0.96169114)\n",
      "(639, 'Indiana Jones and the Temple of Doom', 0.9632467)\n",
      "(141, 'Alien (film)', 0.96762782)\n",
      "(303, 'Raiders of the Lost Ark', 0.98218834)\n",
      "(44, 'Return of the Jedi', 0.98419368)\n",
      "(74, 'The Empire Strikes Back', 0.98707592)\n",
      "(18, 'Star Wars (film)', 0.99999988)\n"
     ]
    }
   ],
   "source": [
    "def neighbors(movie):\n",
    "    dists = np.dot(normalized, normalized[movie_to_id[movie]])\n",
    "    closest = np.argsort(dists)[-10:]\n",
    "    for c in closest:\n",
    "        print(c, movies[c][0], dists[c])\n",
    "\n",
    "neighbors('Star Wars (film)')"
   ]
  },
  {
   "cell_type": "markdown",
   "metadata": {
    "deletable": true,
    "editable": true
   },
   "source": [
    "Another way to explore the data is by using TSNE to group the movies on a two dimensional grid. "
   ]
  },
  {
   "cell_type": "code",
   "execution_count": 13,
   "metadata": {
    "collapsed": false,
    "deletable": true,
    "editable": true
   },
   "outputs": [
    {
     "data": {
      "text/plain": [
       "array([[ 3.04852687, -1.84250886],\n",
       "       [ 5.80860702, -2.40014016],\n",
       "       [ 3.10556136, -1.96007714],\n",
       "       ..., \n",
       "       [ 5.74482433,  3.30837116],\n",
       "       [ 4.40213956, -3.6699006 ],\n",
       "       [-0.18579654, -0.58216759]])"
      ]
     },
     "execution_count": 13,
     "metadata": {},
     "output_type": "execute_result"
    }
   ],
   "source": [
    "model = TSNE(n_components=2, random_state=0)\n",
    "np.set_printoptions(suppress=True)\n",
    "xy = model.fit_transform(normalized)\n",
    "xy"
   ]
  },
  {
   "cell_type": "markdown",
   "metadata": {
    "deletable": true,
    "editable": true
   },
   "source": [
    "Scatter Plot the first 300 movies to get an idea of whether what the shape is we are looking at:"
   ]
  },
  {
   "cell_type": "code",
   "execution_count": 14,
   "metadata": {
    "collapsed": false,
    "deletable": true,
    "editable": true
   },
   "outputs": [
    {
     "data": {
      "image/png": "[encoded data removed]",
      "text/plain": [
       "<matplotlib.figure.Figure at 0x7f576e433c90>"
      ]
     },
     "metadata": {},
     "output_type": "display_data"
    }
   ],
   "source": [
    "plt.scatter(xy[:,0][:200], xy[:,1][:200])\n",
    "plt.show()"
   ]
  },
  {
   "cell_type": "markdown",
   "metadata": {
    "deletable": true,
    "editable": true
   },
   "source": [
    "We can now create a large bitmap that has the movie posters of all movies on it which we can then use to interactively explore neighborhoods of movies. We just loop through all the movies in reverse order and plot them at the position where they are needed, making sure to "
   ]
  },
  {
   "cell_type": "code",
   "execution_count": 40,
   "metadata": {
    "collapsed": false,
    "deletable": true,
    "editable": true
   },
   "outputs": [
    {
     "data": {
      "text/plain": [
       "(-9.1501788539350546,\n",
       " -9.2011315734468635,\n",
       " 9.3792594010873813,\n",
       " 8.6547486666455313,\n",
       " 7325,\n",
       " 2396)"
      ]
     },
     "execution_count": 40,
     "metadata": {},
     "output_type": "execute_result"
    }
   ],
   "source": [
    "w = 144\n",
    "h = 220\n",
    "res = []\n",
    "sz = 100\n",
    "sz_1 = sz + 1\n",
    "taken = [[False] * sz_1 for _ in range(sz_1)]\n",
    "x_min = xy.T[0].min()\n",
    "y_min = xy.T[1].min()\n",
    "x_max = xy.T[0].max()\n",
    "y_max = xy.T[1].max()\n",
    "img = Image.new('RGB', (sz_1 * w, sz_1 * h))\n",
    "drw = ImageDraw.Draw(img)\n",
    "c1 = 0\n",
    "c2 = 0\n",
    "for movie, coo in zip(movies, xy):\n",
    "    if not movie[1]:\n",
    "        continue\n",
    "    poster = Image.open(image_cache + '/' + movie[1])\n",
    "    poster.thumbnail((w, h), Image.ANTIALIAS)\n",
    "    x = int(sz * (coo[0] - x_min) / (x_max - x_min))\n",
    "    y = int(sz * (coo[1] - y_min) / (y_max - y_min))\n",
    "    if taken[x][y]:\n",
    "        c1 += 1\n",
    "        for dx, dy in (-1, 0), (2, 0), (-1, -1), (0, 2):\n",
    "            x += dx\n",
    "            y += dy\n",
    "            if x >= 0 and y >= 0 and x < sz_1 and y < sz_1 and not taken[x][y]:\n",
    "                break\n",
    "        else:\n",
    "            continue\n",
    "        c2 += 1\n",
    "    taken[x][y] = True\n",
    "    x *= w\n",
    "    y *= h\n",
    "    drw.rectangle((x, y, x + w, y + h), (50, 50, 50))\n",
    "    res.append((x, y, movie[1], poster.size[0], poster.size[1]))\n",
    "    img.paste(poster, (x + (w - poster.size[0]) / 2, y  + (h - poster.size[1]) / 2))\n",
    "\n",
    "img.save(open('/home/notebook/notebook/poster.png', 'wb'))\n",
    "    \n",
    "x_min, y_min, x_max, y_max, c1, c2"
   ]
  },
  {
   "cell_type": "markdown",
   "metadata": {
    "collapsed": false,
    "deletable": true,
    "editable": true
   },
   "source": [
    "As a last step, we write the resulting data back into the database to power the interactive demo"
   ]
  },
  {
   "cell_type": "code",
   "execution_count": 41,
   "metadata": {
    "collapsed": false,
    "deletable": true,
    "editable": true
   },
   "outputs": [],
   "source": [
    "cursor = postgres_conn.cursor()\n",
    "cursor.execute('DROP TABLE IF EXISTS movie_recommender')\n",
    "cursor.execute('CREATE TABLE movie_recommender ('\n",
    "               '    wikipedia_id TEXT PRIMARY KEY,'\n",
    "               '    viewcount INT,'\n",
    "               '    image TEXT,'\n",
    "               '    x FLOAT,'\n",
    "               '    y FLOAT,'\n",
    "               '    vec FLOAT[] NOT NULL DEFAULT \\'{}\\''\n",
    "               ')')\n",
    "cursor.execute('CREATE INDEX movie_recommender_vec ON movie_recommender USING gin(vec)')\n",
    "cursor.execute('CREATE INDEX movie_recommender_name_pattern ON movie_recommender USING btree(lower(wikipedia_id) text_pattern_ops)')\n",
    "cursor.execute('CREATE INDEX movie_recommender_viewcount ON movie_recommender(viewcount)')\n"
   ]
  },
  {
   "cell_type": "code",
   "execution_count": 42,
   "metadata": {
    "collapsed": false,
    "deletable": true,
    "editable": true
   },
   "outputs": [],
   "source": [
    "for movie, coo, weights in zip(movies, xy, src_weights):\n",
    "    x = int(sz * (coo[0] - x_min) / (x_max - x_min)) * w\n",
    "    y = int(sz * (coo[1] - y_min) / (y_max - y_min)) * h\n",
    "    v_len = np.linalg.norm(weights)\n",
    "    cursor.execute('INSERT INTO movie_recommender (wikipedia_id, image, viewcount, x, y, vec) '\n",
    "                   'VALUES (%s, %s, %s, %s, %s, %s)',\n",
    "                            (movie[0], movie[1], movie[-1], x, y,\n",
    "                             [float(weight) / v_len for weight in weights]))\n",
    "    "
   ]
  },
  {
   "cell_type": "code",
   "execution_count": 43,
   "metadata": {
    "collapsed": false,
    "deletable": true,
    "editable": true
   },
   "outputs": [],
   "source": [
    "postgres_conn.commit()\n",
    "cursor.close()"
   ]
  },
  {
   "cell_type": "code",
   "execution_count": 48,
   "metadata": {
    "collapsed": false,
    "deletable": true,
    "editable": true
   },
   "outputs": [
    {
     "name": "stdout",
     "output_type": "stream",
     "text": [
      "(6444, 'Return of the Ewok', 0.95703477)\n",
      "(683, 'Superman (1978 film)', 0.95719445)\n",
      "(9456, 'Doppelg\\xc3\\xa4nger (1969 film)', 0.95741284)\n",
      "(4145, 'Dragonslayer', 0.96169114)\n",
      "(639, 'Indiana Jones and the Temple of Doom', 0.9632467)\n",
      "(141, 'Alien (film)', 0.96762782)\n",
      "(303, 'Raiders of the Lost Ark', 0.98218834)\n",
      "(44, 'Return of the Jedi', 0.98419368)\n",
      "(74, 'The Empire Strikes Back', 0.98707592)\n",
      "(18, 'Star Wars (film)', 0.99999988)\n"
     ]
    }
   ],
   "source": [
    "neighbors('Star Wars (film)')"
   ]
  },
  {
   "cell_type": "code",
   "execution_count": 49,
   "metadata": {
    "collapsed": false,
    "deletable": true,
    "editable": true
   },
   "outputs": [
    {
     "data": {
      "text/plain": [
       "(5040, 11660)"
      ]
     },
     "execution_count": 49,
     "metadata": {},
     "output_type": "execute_result"
    }
   ],
   "source": [
    "coo = xy[639]\n",
    "x = int(sz * (coo[0] - x_min) / (x_max - x_min)) * w\n",
    "y = int(sz * (coo[1] - y_min) / (y_max - y_min)) * h\n",
    "x, y"
   ]
  },
  {
   "cell_type": "code",
   "execution_count": 50,
   "metadata": {
    "collapsed": false,
    "deletable": true,
    "editable": true
   },
   "outputs": [
    {
     "data": {
      "text/plain": [
       "13"
      ]
     },
     "execution_count": 50,
     "metadata": {},
     "output_type": "execute_result"
    }
   ],
   "source": [
    "frames = []\n",
    "size = 4800\n",
    "i = 0\n",
    "x1 = x + 75\n",
    "y1 = y + 200\n",
    "while size > 480:\n",
    "    width2 = int(size / 2)\n",
    "    height2 = int(size / 3)\n",
    "    img_crop = img.crop((x1 - width2, y1 - height2, x1 + width2, y1 + height2))\n",
    "    img_crop = img_crop.resize((600, 400))\n",
    "    fn = 'movie_images/frame_%d.png' % i\n",
    "    img_crop.save(fn)\n",
    "    frames.append(fn)\n",
    "    size /= 1.2\n",
    "    i += 1\n",
    "len(frames)"
   ]
  },
  {
   "cell_type": "code",
   "execution_count": 51,
   "metadata": {
    "collapsed": false,
    "deletable": true,
    "editable": true
   },
   "outputs": [
    {
     "data": {
      "text/html": [
       "<img src=\"https://douweosinga.com/static/projects/movie_recommend/movie_recommend.gif\">"
      ],
      "text/plain": [
       "<IPython.core.display.HTML object>"
      ]
     },
     "metadata": {},
     "output_type": "display_data"
    }
   ],
   "source": [
    "imageio.mimsave('movie_recommend.gif', [imageio.imread(frame) for frame in frames], 'GIF', duration=0.5)\n",
    "display(HTML('<img src=\"movie_recommend.gif\">'))"
   ]
  }
 ],
 "metadata": {
  "kernelspec": {
   "display_name": "Python 2",
   "language": "python",
   "name": "python2"
  },
  "language_info": {
   "codemirror_mode": {
    "name": "ipython",
    "version": 2
   },
   "file_extension": ".py",
   "mimetype": "text/x-python",
   "name": "python",
   "nbconvert_exporter": "python",
   "pygments_lexer": "ipython2",
   "version": "2.7.12"
  }
 },
 "nbformat": 4,
 "nbformat_minor": 2
}
